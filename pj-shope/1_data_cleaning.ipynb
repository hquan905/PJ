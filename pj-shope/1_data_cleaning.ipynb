{
 "cells": [
  {
   "attachments": {},
   "cell_type": "markdown",
   "metadata": {},
   "source": [
    "Làm sạch dữ liệu"
   ]
  },
  {
   "cell_type": "code",
   "execution_count": 1,
   "metadata": {},
   "outputs": [],
   "source": [
    "import pandas as pd\n",
    "\n",
    "restaurants_df = pd.read_csv(\"Get_Restaurant.csv\")\n",
    "items_df = pd.read_csv(\"Get_Items.csv\")"
   ]
  },
  {
   "cell_type": "code",
   "execution_count": 6,
   "metadata": {},
   "outputs": [],
   "source": [
    "# Xoá cột phụ và chuẩn hoá tên quán\n",
    "restaurants_df_cleaned = restaurants_df.drop(columns=[\"Unnamed: 0\", \"Restaurant_Phone\", \"Restaurant_Phone.1\"])\n",
    "items_df_cleaned = items_df.drop(columns=[\"Unnamed: 0\"])\n",
    "\n",
    "# Chuẩn hoá tên quán để ghép bảng sau này\n",
    "restaurants_df_cleaned[\"Restaurant_Name\"] = restaurants_df_cleaned[\"Restaurant_Name\"].str.strip()\n",
    "items_df_cleaned[\"Restaurant_Name\"] = items_df_cleaned[\"Restaurant_Name\"].str.strip()\n"
   ]
  },
  {
   "cell_type": "code",
   "execution_count": 7,
   "metadata": {},
   "outputs": [],
   "source": [
    "import re\n",
    "\n",
    "# Hàm nâng cao trích quận từ địa chỉ\n",
    "def extract_district(address):\n",
    "    if pd.isna(address):\n",
    "        return None\n",
    "    # Tách từ sau \"P.\" hoặc dấu phẩy\n",
    "    tokens = address.split(\",\")\n",
    "    for token in reversed(tokens):\n",
    "        token = token.strip()\n",
    "        if any(x in token.lower() for x in [\"quận\", \"huyện\", \"tp\", \"thành phố\", \"thị xã\", \"cầu giấy\", \"đống đa\"]):\n",
    "            return token\n",
    "    return tokens[-2].strip() if len(tokens) >= 2 else tokens[-1].strip()\n",
    "\n",
    "# Áp dụng\n",
    "restaurants_df_cleaned[\"District\"] = restaurants_df_cleaned[\"Restaurant_Address\"].apply(extract_district)\n"
   ]
  },
  {
   "cell_type": "code",
   "execution_count": 2,
   "metadata": {},
   "outputs": [],
   "source": [
    "# Chuyển tất cả tên món về chữ thường để so sánh dễ hơn\n",
    "items_df[\"Dish_Name_lower\"] = items_df[\"Dish_Name\"].str.lower()\n",
    "\n",
    "# Danh sách từ khóa không phải món ăn (bạn có thể bổ sung thêm)\n",
    "exclude_keywords = [\n",
    "    \"sofa\", \"ghế\", \"bàn\", \"quần\", \"áo\", \"váy\", \"giày\", \"tủ\", \"kệ\",\n",
    "    \"nệm\", \"sách\", \"kem\", \"sữa rửa mặt\", \"sữa tắm\", \"bỉm\", \"xe đạp\", \n",
    "    \"đèn\", \"quạt\", \"máy\", \"móc khóa\", \"gối\", \"ga trải giường\"\n",
    "]\n",
    "\n",
    "# Tạo biểu thức lọc (kết hợp OR các từ khóa)\n",
    "pattern = '|'.join(exclude_keywords)\n",
    "\n",
    "# Lọc ra các dòng KHÔNG chứa từ khóa loại trừ\n",
    "items_df_cleaned_food_only = items_df[~items_df[\"Dish_Name_lower\"].str.contains(pattern, na=False)]\n",
    "\n",
    "# Xoá cột phụ nếu cần\n",
    "items_df_cleaned_food_only = items_df_cleaned_food_only.drop(columns=[\"Dish_Name_lower\"])\n"
   ]
  },
  {
   "cell_type": "code",
   "execution_count": 8,
   "metadata": {},
   "outputs": [
    {
     "name": "stdout",
     "output_type": "stream",
     "text": [
      "Thiếu ở bảng quán ăn:\n",
      "Restaurant_Name       0\n",
      "Restaurant_Address    0\n",
      "Restaurant_Rate       0\n",
      "Restaurant_Review     0\n",
      "Restaurant_url        0\n",
      "District              0\n",
      "dtype: int64\n",
      "\n",
      "Thiếu ở bảng món ăn:\n",
      "Restaurant_Name    0\n",
      "Menu_Name          0\n",
      "Dish_Name          0\n",
      "Dish_order         0\n",
      "Dish_Price         0\n",
      "Dish_Name_lower    0\n",
      "dtype: int64\n"
     ]
    }
   ],
   "source": [
    "# Kiểm tra giá trị thiếu\n",
    "print(\"Thiếu ở bảng quán ăn:\")\n",
    "print(restaurants_df_cleaned.isnull().sum())\n",
    "\n",
    "print(\"\\nThiếu ở bảng món ăn:\")\n",
    "print(items_df_cleaned.isnull().sum())\n"
   ]
  },
  {
   "cell_type": "code",
   "execution_count": 7,
   "metadata": {},
   "outputs": [
    {
     "data": {
      "text/html": [
       "<div>\n",
       "<style scoped>\n",
       "    .dataframe tbody tr th:only-of-type {\n",
       "        vertical-align: middle;\n",
       "    }\n",
       "\n",
       "    .dataframe tbody tr th {\n",
       "        vertical-align: top;\n",
       "    }\n",
       "\n",
       "    .dataframe thead th {\n",
       "        text-align: right;\n",
       "    }\n",
       "</style>\n",
       "<table border=\"1\" class=\"dataframe\">\n",
       "  <thead>\n",
       "    <tr style=\"text-align: right;\">\n",
       "      <th></th>\n",
       "      <th>Restaurant_Name</th>\n",
       "      <th>Menu_Name</th>\n",
       "      <th>Dish_Name</th>\n",
       "      <th>Dish_order</th>\n",
       "      <th>Dish_Price</th>\n",
       "    </tr>\n",
       "  </thead>\n",
       "  <tbody>\n",
       "    <tr>\n",
       "      <th>0</th>\n",
       "      <td>Circle K - Bia Lạnh Các Loại - 5-4A Trung Hòa ...</td>\n",
       "      <td>SNACK</td>\n",
       "      <td>Bánh Que Vị Tôm Dorkbua 55G (1 Gói)-8850157500371</td>\n",
       "      <td>10</td>\n",
       "      <td>19000.0</td>\n",
       "    </tr>\n",
       "    <tr>\n",
       "      <th>1</th>\n",
       "      <td>Circle K - Bia Lạnh Các Loại - 5-4A Trung Hòa ...</td>\n",
       "      <td>SNACK</td>\n",
       "      <td>Khoai Tây Chiên Vị Kim Chi O'Star 108G (1 Gói)...</td>\n",
       "      <td>10</td>\n",
       "      <td>25000.0</td>\n",
       "    </tr>\n",
       "    <tr>\n",
       "      <th>2</th>\n",
       "      <td>Circle K - Bia Lạnh Các Loại - 5-4A Trung Hòa ...</td>\n",
       "      <td>SNACK</td>\n",
       "      <td>Bánh Vị Cua Kinh Đô 32G (1 Gói)-8934680012652</td>\n",
       "      <td>10</td>\n",
       "      <td>7000.0</td>\n",
       "    </tr>\n",
       "    <tr>\n",
       "      <th>3</th>\n",
       "      <td>Circle K - Bia Lạnh Các Loại - 5-4A Trung Hòa ...</td>\n",
       "      <td>SNACK</td>\n",
       "      <td>Swing Khoai Tây Chiên Vị Bò BíT TếT 63G(1 ...</td>\n",
       "      <td>9</td>\n",
       "      <td>14000.0</td>\n",
       "    </tr>\n",
       "    <tr>\n",
       "      <th>4</th>\n",
       "      <td>Circle K - Bia Lạnh Các Loại - 5-4A Trung Hòa ...</td>\n",
       "      <td>SNACK</td>\n",
       "      <td>OISHI Snack Bắp Ngọt 73g (1 Gói)-8934803026078</td>\n",
       "      <td>8</td>\n",
       "      <td>13000.0</td>\n",
       "    </tr>\n",
       "  </tbody>\n",
       "</table>\n",
       "</div>"
      ],
      "text/plain": [
       "                                     Restaurant_Name Menu_Name  \\\n",
       "0  Circle K - Bia Lạnh Các Loại - 5-4A Trung Hòa ...     SNACK   \n",
       "1  Circle K - Bia Lạnh Các Loại - 5-4A Trung Hòa ...     SNACK   \n",
       "2  Circle K - Bia Lạnh Các Loại - 5-4A Trung Hòa ...     SNACK   \n",
       "3  Circle K - Bia Lạnh Các Loại - 5-4A Trung Hòa ...     SNACK   \n",
       "4  Circle K - Bia Lạnh Các Loại - 5-4A Trung Hòa ...     SNACK   \n",
       "\n",
       "                                           Dish_Name  Dish_order  Dish_Price  \n",
       "0  Bánh Que Vị Tôm Dorkbua 55G (1 Gói)-8850157500371          10     19000.0  \n",
       "1  Khoai Tây Chiên Vị Kim Chi O'Star 108G (1 Gói)...          10     25000.0  \n",
       "2      Bánh Vị Cua Kinh Đô 32G (1 Gói)-8934680012652          10      7000.0  \n",
       "3  Swing Khoai Tây Chiên Vị Bò BíT TếT 63G(1 ...           9     14000.0  \n",
       "4  OISHI Snack Bắp Ngọt 73g (1 Gói)-8934803026078           8     13000.0  "
      ]
     },
     "execution_count": 7,
     "metadata": {},
     "output_type": "execute_result"
    }
   ],
   "source": [
    "restaurants_df_cleaned.head(5)\n",
    "items_df_cleaned.head(5)\n"
   ]
  },
  {
   "cell_type": "code",
   "execution_count": null,
   "metadata": {},
   "outputs": [],
   "source": [
    "# Lưu dữ liệu đã làm sạch thành file CSV\n",
    "restaurants_df_cleaned.to_csv(\"restaurants_cleaned.csv\", index=False)\n",
    "items_df_cleaned.to_csv(\"items_cleaned.csv\", index=False)\n"
   ]
  },
  {
   "cell_type": "code",
   "execution_count": 9,
   "metadata": {},
   "outputs": [
    {
     "name": "stdout",
     "output_type": "stream",
     "text": [
      "📦 Tổng số item gốc: 533132\n",
      "🍽️ Tổng số item sau khi lọc: 533132\n",
      "\n",
      "🔍 Một vài item trong file GỐC:\n",
      "0    Bánh Que Vị Tôm Dorkbua 55G (1 Gói)-8850157500371\n",
      "1    Khoai Tây Chiên Vị Kim Chi O'Star 108G (1 Gói)...\n",
      "2        Bánh Vị Cua Kinh Đô 32G (1 Gói)-8934680012652\n",
      "3    Swing Khoai Tây Chiên Vị Bò BíT TếT 63G(1 ...\n",
      "4    OISHI Snack Bắp Ngọt 73g (1 Gói)-8934803026078\n",
      "Name: Dish_Name, dtype: object\n",
      "\n",
      "✅ Một vài item trong file ĐÃ LỌC:\n",
      "0    Bánh Que Vị Tôm Dorkbua 55G (1 Gói)-8850157500371\n",
      "1    Khoai Tây Chiên Vị Kim Chi O'Star 108G (1 Gói)...\n",
      "2        Bánh Vị Cua Kinh Đô 32G (1 Gói)-8934680012652\n",
      "3    Swing Khoai Tây Chiên Vị Bò BíT TếT 63G(1 ...\n",
      "4    OISHI Snack Bắp Ngọt 73g (1 Gói)-8934803026078\n",
      "Name: Dish_Name, dtype: object\n"
     ]
    }
   ],
   "source": [
    "print(\"📦 Tổng số item gốc:\", len(items_df))\n",
    "print(\"🍽️ Tổng số item sau khi lọc:\", len(items_df_cleaned))\n",
    "\n",
    "# Xem 5 món đầu tiên trong file gốc\n",
    "print(\"\\n🔍 Một vài item trong file GỐC:\")\n",
    "print(items_df[\"Dish_Name\"].head())\n",
    "\n",
    "# Xem 5 món đầu tiên sau khi đã lọc sạch\n",
    "print(\"\\n✅ Một vài item trong file ĐÃ LỌC:\")\n",
    "print(items_df_cleaned[\"Dish_Name\"].head())\n"
   ]
  },
  {
   "cell_type": "code",
   "execution_count": 11,
   "metadata": {},
   "outputs": [
    {
     "name": "stdout",
     "output_type": "stream",
     "text": [
      "🛑 Các sản phẩm đã bị loại bỏ (không phải món ăn):\n",
      "                                              Dish_Name  Dish_Price\n",
      "1315                Bàn Chải Massage Gắn Tường Cho Mèo      60000.0\n",
      "1317  Bàn chải massage tạo bọt silicon( giao màu ngẫ...     40000.0\n",
      "1332  Sữa Tắm Hantox Trị Bọ Chét, Ve, Ghẻ, Rận Màu X...     50000.0\n",
      "1333                  Sữa Tắm Cho Chó SOS Mềm Mượt Lông    110000.0\n",
      "1334                     Sữa Tắm Cho Chó Lông Trắng SOS    110000.0\n",
      "1335                    Sữa Tắm SOS Cho Chó Lông Nâu Đỏ    110000.0\n",
      "1336  Sữa Tắm Hantox Trị Bọ Chét, Ve, Ghẻ, Rận Màu H...     50000.0\n",
      "1337               Sữa Tắm Cho Chó SOS Khử Mùi Tạo Kiểu    110000.0\n",
      "1339               Sữa Tắm Cho Chó SOS Phục Hồi Da Lông    110000.0\n",
      "1342                        Sữa Tắm Olive Cho Mèo 450ml     65000.0\n"
     ]
    }
   ],
   "source": [
    "# Chuyển sang chữ thường để so sánh dễ hơn\n",
    "items_df[\"Dish_Name_lower\"] = items_df[\"Dish_Name\"].str.lower()\n",
    "\n",
    "# Tạo biểu thức từ khóa loại trừ\n",
    "exclude_keywords = [\n",
    "    \"sofa\", \"ghế\", \"bàn\", \"quần\", \"áo\", \"váy\", \"giày\", \"tủ\", \"kệ\",\n",
    "    \"nệm\", \"sách\", \"kem\", \"sữa rửa mặt\", \"sữa tắm\", \"bỉm\", \"xe đạp\", \n",
    "    \"đèn\", \"quạt\", \"máy\", \"móc khóa\", \"gối\", \"ga trải giường\"\n",
    "]\n",
    "pattern = '|'.join(exclude_keywords)\n",
    "\n",
    "# Lấy ra các dòng bị loại bỏ\n",
    "excluded_items = items_df[items_df[\"Dish_Name_lower\"].str.contains(pattern, na=False)]\n",
    "\n",
    "print(\"🛑 Các sản phẩm đã bị loại bỏ (không phải món ăn):\")\n",
    "print(excluded_items[[\"Dish_Name\", \"Dish_Price\"]].head())\n"
   ]
  }
 ],
 "metadata": {
  "kernelspec": {
   "display_name": "base",
   "language": "python",
   "name": "python3"
  },
  "language_info": {
   "codemirror_mode": {
    "name": "ipython",
    "version": 3
   },
   "file_extension": ".py",
   "mimetype": "text/x-python",
   "name": "python",
   "nbconvert_exporter": "python",
   "pygments_lexer": "ipython3",
   "version": "3.12.7"
  },
  "orig_nbformat": 4
 },
 "nbformat": 4,
 "nbformat_minor": 2
}
